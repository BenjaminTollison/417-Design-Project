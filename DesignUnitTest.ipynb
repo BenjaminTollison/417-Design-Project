{
 "cells": [
  {
   "cell_type": "code",
   "execution_count": 8,
   "metadata": {},
   "outputs": [
    {
     "data": {
      "text/markdown": [
       "|              |           0 | 1                   |          2 |\n",
       "|:-------------|------------:|:--------------------|-----------:|\n",
       "| N_rads       | 2686.06     | rads/s              | nan        |\n",
       "| N_rev        |  427.5      | rev/s               | nan        |\n",
       "| U_t          |  347.516    | m/s                 | nan        |\n",
       "| C_a          |  170.131    | m/s                 | nan        |\n",
       "| inlet_radii  |    0.051751 | 0.09056430561399292 |   0.129378 |\n",
       "| outlet_radii |    0.110233 | 0.11980539516492981 |   0.129378 |"
      ],
      "text/plain": [
       "<IPython.core.display.Markdown object>"
      ]
     },
     "metadata": {},
     "output_type": "display_data"
    }
   ],
   "source": [
    "import pandas as pd\n",
    "from IPython.display import Markdown\n",
    "import numpy as np\n",
    "from AnnulusDimension import annulus_dimensions\n",
    "display(Markdown(pd.DataFrame.from_dict(annulus_dimensions,orient='index').to_markdown()))\n",
    "table_1 = pd.DataFrame.from_dict(annulus_dimensions,orient='index').to_markdown()"
   ]
  },
  {
   "cell_type": "code",
   "execution_count": 9,
   "metadata": {},
   "outputs": [
    {
     "name": "stdout",
     "output_type": "stream",
     "text": [
      "347.5161634302797\n"
     ]
    }
   ],
   "source": [
    "print(annulus_dimensions['N_rev'][0]*2*np.pi*annulus_dimensions['inlet_radii'][-1])"
   ]
  },
  {
   "cell_type": "code",
   "execution_count": 10,
   "metadata": {},
   "outputs": [
    {
     "data": {
      "text/markdown": [
       "|    |   $\\lambda$ |   $\\Lambda$ |   $ \\beta_1 $ |   $ \\beta_2 $ |   $ \\alpha_1 $ |   $ \\alpha_2 $ |   $C_{w1}$ |   $C_{w2}$ |   de Haller |   $P_{0S}$ |   $T_{0S}$ |\n",
       "|---:|------------:|------------:|--------------:|--------------:|---------------:|---------------:|-----------:|-----------:|------------:|-----------:|-----------:|\n",
       "|  0 |      0.98   |      0.639  |        59.132 |       104.699 |          0.009 |         45.908 |      0.026 |    175.609 |      1.4372 |     1.5476 |     329.8  |\n",
       "|  1 |      0.9131 |      0.4685 |        57.599 |        84.573 |         18.506 |         53.268 |     56.947 |    227.979 |      1.5856 |     2.2468 |     371.45 |\n",
       "|  2 |      0.8725 |      0.4196 |        56.803 |        80.387 |         25.387 |         55.7   |     80.739 |    249.407 |      1.6032 |     3.1345 |     413.1  |\n",
       "|  3 |      0.8479 |      0.4056 |        56.126 |        80.926 |         28.593 |         56.739 |     92.732 |    259.389 |      1.601  |     4.2343 |     454.75 |\n",
       "|  4 |      0.833  |      0.4016 |        55.616 |        82.309 |         30.322 |         57.265 |     99.506 |    264.649 |      1.5963 |     5.5705 |     496.4  |"
      ],
      "text/plain": [
       "<IPython.core.display.Markdown object>"
      ]
     },
     "metadata": {},
     "output_type": "display_data"
    }
   ],
   "source": [
    "from MeanVelocityTriangles import velocity_triangles_table\n",
    "from IPython.display import Markdown\n",
    "pd.options.display.html.use_mathjax = True\n",
    "velocity_triangles_df = pd.DataFrame(velocity_triangles_table)\n",
    "display(Markdown(velocity_triangles_df.to_markdown(index=True)))\n",
    "table_2 =velocity_triangles_df.to_markdown(index=True)"
   ]
  },
  {
   "cell_type": "code",
   "execution_count": 11,
   "metadata": {},
   "outputs": [],
   "source": [
    "with open('appendix\\markdown-tables','w') as file:\n",
    "  file.write(table_1)\n",
    "  file.write('\\n\\n')\n",
    "  file.write(table_2)"
   ]
  }
 ],
 "metadata": {
  "kernelspec": {
   "display_name": "design-env",
   "language": "python",
   "name": "python3"
  },
  "language_info": {
   "codemirror_mode": {
    "name": "ipython",
    "version": 3
   },
   "file_extension": ".py",
   "mimetype": "text/x-python",
   "name": "python",
   "nbconvert_exporter": "python",
   "pygments_lexer": "ipython3",
   "version": "3.11.9"
  }
 },
 "nbformat": 4,
 "nbformat_minor": 2
}
