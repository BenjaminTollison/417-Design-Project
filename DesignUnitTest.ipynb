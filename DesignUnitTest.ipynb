{
 "cells": [
  {
   "cell_type": "code",
   "execution_count": 1,
   "metadata": {},
   "outputs": [
    {
     "data": {
      "text/markdown": [
       "|              |           0 | 1                   |          2 |\n",
       "|:-------------|------------:|:--------------------|-----------:|\n",
       "| N_rads       | 2686.06     | rads/s              | nan        |\n",
       "| N_rev        |  427.5      | rev/s               | nan        |\n",
       "| U_t          |  347.516    | m/s                 | nan        |\n",
       "| C_a          |  170.131    | m/s                 | nan        |\n",
       "| inlet_radii  |    0.051751 | 0.09056430561399292 |   0.129378 |\n",
       "| outlet_radii |    0.110233 | 0.11980539516492981 |   0.129378 |"
      ],
      "text/plain": [
       "<IPython.core.display.Markdown object>"
      ]
     },
     "metadata": {},
     "output_type": "display_data"
    }
   ],
   "source": [
    "import pandas as pd\n",
    "from IPython.display import Markdown\n",
    "import numpy as np\n",
    "from AnnulusDimension import annulus_dimensions\n",
    "display(Markdown(pd.DataFrame.from_dict(annulus_dimensions,orient='index').to_markdown()))"
   ]
  },
  {
   "cell_type": "code",
   "execution_count": 2,
   "metadata": {},
   "outputs": [
    {
     "name": "stdout",
     "output_type": "stream",
     "text": [
      "347.5161634302797\n"
     ]
    }
   ],
   "source": [
    "print(annulus_dimensions['N_rev'][0]*2*np.pi*annulus_dimensions['inlet_radii'][-1])"
   ]
  },
  {
   "cell_type": "code",
   "execution_count": 3,
   "metadata": {},
   "outputs": [
    {
     "data": {
      "text/markdown": [
       "|              |        0 |        1 |        2 |        3 |        4 |\n",
       "|:-------------|---------:|---------:|---------:|---------:|---------:|\n",
       "| $\\lambda$    |   0.98   |   0.9131 |   0.8725 |   0.8479 |   0.833  |\n",
       "| $\\Lambda$    |   0.639  |   0.4685 |   0.4196 |   0.4056 |   0.4016 |\n",
       "| $ \\beta_1 $  |  59.132  |  57.599  |  56.803  |  56.126  |  55.616  |\n",
       "| $ \\beta_2 $  | 104.699  |  84.573  |  80.387  |  80.926  |  82.309  |\n",
       "| $ \\alpha_1 $ |   0.009  |  18.506  |  25.387  |  28.593  |  30.322  |\n",
       "| $ \\alpha_2 $ |  45.908  |  53.268  |  55.7    |  56.739  |  57.265  |\n",
       "| $C_{w1}$     |   0.026  |  56.947  |  80.739  |  92.732  |  99.506  |\n",
       "| $C_{w2}$     | 175.609  | 227.979  | 249.407  | 259.389  | 264.649  |\n",
       "| de Haller    |   1.4372 |   1.5856 |   1.6032 |   1.601  |   1.5963 |\n",
       "| $P_{0S}$     |   1.5476 |   2.2468 |   3.1345 |   4.2343 |   5.5705 |\n",
       "| $T_{0S}$     | 329.8    | 371.45   | 413.1    | 454.75   | 496.4    |"
      ],
      "text/plain": [
       "<IPython.core.display.Markdown object>"
      ]
     },
     "metadata": {},
     "output_type": "display_data"
    }
   ],
   "source": [
    "from MeanVelocityTriangles import velocity_triangles_table\n",
    "from IPython.display import Markdown\n",
    "pd.options.display.html.use_mathjax = True\n",
    "velocity_triangles_df = pd.DataFrame(velocity_triangles_table)\n",
    "display(Markdown(velocity_triangles_df.T.to_markdown(index=True)))"
   ]
  }
 ],
 "metadata": {
  "kernelspec": {
   "display_name": "Python 3",
   "language": "python",
   "name": "python3"
  },
  "language_info": {
   "codemirror_mode": {
    "name": "ipython",
    "version": 3
   },
   "file_extension": ".py",
   "mimetype": "text/x-python",
   "name": "python",
   "nbconvert_exporter": "python",
   "pygments_lexer": "ipython3",
   "version": "3.12.4"
  }
 },
 "nbformat": 4,
 "nbformat_minor": 2
}
