{
 "cells": [
  {
   "cell_type": "code",
   "execution_count": 7,
   "metadata": {},
   "outputs": [
    {
     "data": {
      "text/html": [
       "<div>\n",
       "<style scoped>\n",
       "    .dataframe tbody tr th:only-of-type {\n",
       "        vertical-align: middle;\n",
       "    }\n",
       "\n",
       "    .dataframe tbody tr th {\n",
       "        vertical-align: top;\n",
       "    }\n",
       "\n",
       "    .dataframe thead th {\n",
       "        text-align: right;\n",
       "    }\n",
       "</style>\n",
       "<table border=\"1\" class=\"dataframe\">\n",
       "  <thead>\n",
       "    <tr style=\"text-align: right;\">\n",
       "      <th></th>\n",
       "      <th>0</th>\n",
       "      <th>1</th>\n",
       "      <th>2</th>\n",
       "    </tr>\n",
       "  </thead>\n",
       "  <tbody>\n",
       "    <tr>\n",
       "      <th>N_rads</th>\n",
       "      <td>2686.061719</td>\n",
       "      <td>rads/s</td>\n",
       "      <td>NaN</td>\n",
       "    </tr>\n",
       "    <tr>\n",
       "      <th>N_rev</th>\n",
       "      <td>427.500000</td>\n",
       "      <td>rev/s</td>\n",
       "      <td>NaN</td>\n",
       "    </tr>\n",
       "    <tr>\n",
       "      <th>U_t</th>\n",
       "      <td>347.516163</td>\n",
       "      <td>m/s</td>\n",
       "      <td>NaN</td>\n",
       "    </tr>\n",
       "    <tr>\n",
       "      <th>C_a</th>\n",
       "      <td>170.131324</td>\n",
       "      <td>m/s</td>\n",
       "      <td>NaN</td>\n",
       "    </tr>\n",
       "    <tr>\n",
       "      <th>inlet_radii</th>\n",
       "      <td>0.051751</td>\n",
       "      <td>0.090564</td>\n",
       "      <td>0.129378</td>\n",
       "    </tr>\n",
       "    <tr>\n",
       "      <th>outlet_radii</th>\n",
       "      <td>0.110233</td>\n",
       "      <td>0.119805</td>\n",
       "      <td>0.129378</td>\n",
       "    </tr>\n",
       "  </tbody>\n",
       "</table>\n",
       "</div>"
      ],
      "text/plain": [
       "                        0         1         2\n",
       "N_rads        2686.061719    rads/s       NaN\n",
       "N_rev          427.500000     rev/s       NaN\n",
       "U_t            347.516163       m/s       NaN\n",
       "C_a            170.131324       m/s       NaN\n",
       "inlet_radii      0.051751  0.090564  0.129378\n",
       "outlet_radii     0.110233  0.119805  0.129378"
      ]
     },
     "metadata": {},
     "output_type": "display_data"
    }
   ],
   "source": [
    "import pandas as pd\n",
    "import numpy as np\n",
    "from AnnulusDimension import annulus_dimensions\n",
    "display(pd.DataFrame.from_dict(annulus_dimensions,orient='index'))"
   ]
  },
  {
   "cell_type": "code",
   "execution_count": 10,
   "metadata": {},
   "outputs": [
    {
     "name": "stdout",
     "output_type": "stream",
     "text": [
      "347.5161634302797\n"
     ]
    }
   ],
   "source": [
    "print(annulus_dimensions['N_rev'][0]*2*np.pi*annulus_dimensions['inlet_radii'][-1])"
   ]
  }
 ],
 "metadata": {
  "kernelspec": {
   "display_name": "design-env",
   "language": "python",
   "name": "python3"
  },
  "language_info": {
   "codemirror_mode": {
    "name": "ipython",
    "version": 3
   },
   "file_extension": ".py",
   "mimetype": "text/x-python",
   "name": "python",
   "nbconvert_exporter": "python",
   "pygments_lexer": "ipython3",
   "version": "3.13.0"
  }
 },
 "nbformat": 4,
 "nbformat_minor": 2
}
