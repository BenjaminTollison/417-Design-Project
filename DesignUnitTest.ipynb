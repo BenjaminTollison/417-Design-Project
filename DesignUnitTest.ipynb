{
 "cells": [
  {
   "cell_type": "code",
   "execution_count": 20,
   "metadata": {},
   "outputs": [
    {
     "data": {
      "text/markdown": [
       "|              |           0 | 1                   |          2 |\n",
       "|:-------------|------------:|:--------------------|-----------:|\n",
       "| N_rads       | 2686.06     | rads/s              | nan        |\n",
       "| N_rev        |  427.5      | rev/s               | nan        |\n",
       "| U_t          |  347.516    | m/s                 | nan        |\n",
       "| C_a          |  170.131    | m/s                 | nan        |\n",
       "| inlet_radii  |    0.051751 | 0.09056430561399292 |   0.129378 |\n",
       "| outlet_radii |    0.110233 | 0.11980539516492981 |   0.129378 |"
      ],
      "text/plain": [
       "<IPython.core.display.Markdown object>"
      ]
     },
     "metadata": {},
     "output_type": "display_data"
    }
   ],
   "source": [
    "import pandas as pd\n",
    "from IPython.display import Markdown\n",
    "import numpy as np\n",
    "from AnnulusDimension import annulus_dimensions\n",
    "display(Markdown(pd.DataFrame.from_dict(annulus_dimensions,orient='index').to_markdown()))"
   ]
  },
  {
   "cell_type": "code",
   "execution_count": 21,
   "metadata": {},
   "outputs": [
    {
     "name": "stdout",
     "output_type": "stream",
     "text": [
      "347.5161634302797\n"
     ]
    }
   ],
   "source": [
    "print(annulus_dimensions['N_rev'][0]*2*np.pi*annulus_dimensions['inlet_radii'][-1])"
   ]
  },
  {
   "cell_type": "code",
   "execution_count": 22,
   "metadata": {},
   "outputs": [
    {
     "data": {
      "text/markdown": [
       "|              |        0 |        1 |        2 |        3 |        4 |\n",
       "|:-------------|---------:|---------:|---------:|---------:|---------:|\n",
       "| $\\lambda$    |   0.98   |   0.9131 |   0.8725 |   0.8479 |   0.833  |\n",
       "| $\\Lambda$    |   0.6    |   0.5287 |   0.5082 |   0.5024 |   0.5007 |\n",
       "| $ \\beta_1 $  |  59.132  |  57.599  |  56.803  |  56.126  |  55.616  |\n",
       "| $ \\beta_2 $  |  98.309  |  95.437  |  97.358  | 100.225  | 102.611  |\n",
       "| $ \\alpha_1 $ |   3.2    |  13.491  |  18.08   |  20.639  |  22.181  |\n",
       "| $ \\alpha_2 $ |  47.412  |  51.233  |  52.809  |  53.597  |  54.04   |\n",
       "| $C_{w1}$     |   9.513  |  40.818  |  55.542  |  64.079  |  69.363  |\n",
       "| $C_{w2}$     | 185.096  | 211.851  | 224.21   | 230.736  | 234.506  |\n",
       "| de Haller    |   1.4754 |   1.553  |   1.5726 |   1.5769 |   1.5769 |\n",
       "| $P_{0S}$     |   1.5476 |   2.2468 |   3.1345 |   4.2343 |   5.5705 |\n",
       "| $T_{0S}$     | 329.8    | 371.45   | 413.1    | 454.75   | 496.4    |"
      ],
      "text/plain": [
       "<IPython.core.display.Markdown object>"
      ]
     },
     "metadata": {},
     "output_type": "display_data"
    }
   ],
   "source": [
    "from VelocityTriangles import velocity_triangles_table\n",
    "from pylatex import NoEscape\n",
    "from IPython.display import Markdown\n",
    "pd.options.display.html.use_mathjax = True\n",
    "velocity_triangles_df = pd.DataFrame(velocity_triangles_table)\n",
    "display(Markdown(velocity_triangles_df.T.to_markdown(index=True)))"
   ]
  }
 ],
 "metadata": {
  "kernelspec": {
   "display_name": "design-env",
   "language": "python",
   "name": "python3"
  },
  "language_info": {
   "codemirror_mode": {
    "name": "ipython",
    "version": 3
   },
   "file_extension": ".py",
   "mimetype": "text/x-python",
   "name": "python",
   "nbconvert_exporter": "python",
   "pygments_lexer": "ipython3",
   "version": "3.13.0"
  }
 },
 "nbformat": 4,
 "nbformat_minor": 2
}
