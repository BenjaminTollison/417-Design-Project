{
 "cells": [
  {
   "cell_type": "code",
   "execution_count": 5,
   "metadata": {},
   "outputs": [
    {
     "data": {
      "text/markdown": [
       "|              |           0 | 1                   |          2 |\n",
       "|:-------------|------------:|:--------------------|-----------:|\n",
       "| N_rads       | 2686.06     | rads/s              | nan        |\n",
       "| N_rev        |  427.5      | rev/s               | nan        |\n",
       "| U_t          |  347.516    | m/s                 | nan        |\n",
       "| C_a          |  170.131    | m/s                 | nan        |\n",
       "| inlet_radii  |    0.051751 | 0.09056430561399292 |   0.129378 |\n",
       "| outlet_radii |    0.110233 | 0.11980539516492981 |   0.129378 |"
      ],
      "text/plain": [
       "<IPython.core.display.Markdown object>"
      ]
     },
     "metadata": {},
     "output_type": "display_data"
    }
   ],
   "source": [
    "import pandas as pd\n",
    "from IPython.display import Markdown\n",
    "import numpy as np\n",
    "from AnnulusDimension import annulus_dimensions\n",
    "display(Markdown(pd.DataFrame.from_dict(annulus_dimensions,orient='index').to_markdown()))"
   ]
  },
  {
   "cell_type": "code",
   "execution_count": 6,
   "metadata": {},
   "outputs": [
    {
     "name": "stdout",
     "output_type": "stream",
     "text": [
      "347.5161634302797\n"
     ]
    }
   ],
   "source": [
    "print(annulus_dimensions['N_rev'][0]*2*np.pi*annulus_dimensions['inlet_radii'][-1])"
   ]
  },
  {
   "cell_type": "code",
   "execution_count": 7,
   "metadata": {},
   "outputs": [
    {
     "data": {
      "text/markdown": [
       "|              |        0 |        1 |        2 |        3 |        4 |\n",
       "|:-------------|---------:|---------:|---------:|---------:|---------:|\n",
       "| $\\lambda$    |   0.98   |   0.9131 |   0.8725 |   0.8479 |   0.833  |\n",
       "| $\\Lambda$    |   0.5    |   0.3573 |   0.3164 |   0.3047 |   0.3013 |\n",
       "| $ \\beta_1 $  |  59.132  |  57.599  |  56.803  |  56.126  |  55.616  |\n",
       "| $ \\beta_2 $  |  81.924  |  64.503  |  60.616  |  60.792  |  61.76   |\n",
       "| $ \\alpha_1 $ |  11.249  |  27.015  |  32.907  |  35.783  |  37.387  |\n",
       "| $ \\alpha_2 $ |  50.91   |  56.575  |  58.604  |  59.539  |  60.04   |\n",
       "| $C_{w1}$     |  33.839  |  86.744  | 110.091  | 122.625  | 130.014  |\n",
       "| $C_{w2}$     | 209.422  | 257.777  | 278.76   | 289.281  | 295.157  |\n",
       "| de Haller    |   1.5555 |   1.6173 |   1.6116 |   1.6003 |   1.5911 |\n",
       "| $P_{0S}$     |   1.5476 |   2.2468 |   3.1345 |   4.2343 |   5.5705 |\n",
       "| $T_{0S}$     | 329.8    | 371.45   | 413.1    | 454.75   | 496.4    |"
      ],
      "text/plain": [
       "<IPython.core.display.Markdown object>"
      ]
     },
     "metadata": {},
     "output_type": "display_data"
    }
   ],
   "source": [
    "from MeanVelocityTriangles import velocity_triangles_table\n",
    "from IPython.display import Markdown\n",
    "pd.options.display.html.use_mathjax = True\n",
    "velocity_triangles_df = pd.DataFrame(velocity_triangles_table)\n",
    "display(Markdown(velocity_triangles_df.T.to_markdown(index=True)))"
   ]
  }
 ],
 "metadata": {
  "kernelspec": {
   "display_name": "design-env",
   "language": "python",
   "name": "python3"
  },
  "language_info": {
   "codemirror_mode": {
    "name": "ipython",
    "version": 3
   },
   "file_extension": ".py",
   "mimetype": "text/x-python",
   "name": "python",
   "nbconvert_exporter": "python",
   "pygments_lexer": "ipython3",
   "version": "3.11.9"
  }
 },
 "nbformat": 4,
 "nbformat_minor": 2
}
