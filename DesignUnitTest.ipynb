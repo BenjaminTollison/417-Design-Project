{
 "cells": [
  {
   "cell_type": "code",
   "execution_count": null,
   "metadata": {},
   "outputs": [
    {
     "data": {
      "text/markdown": [
       "|              |           0 | 1                   |          2 |\n",
       "|:-------------|------------:|:--------------------|-----------:|\n",
       "| N_rads       | 2686.06     | rads/s              | nan        |\n",
       "| N_rev        |  427.5      | rev/s               | nan        |\n",
       "| U_t          |  347.516    | m/s                 | nan        |\n",
       "| C_a          |  170.131    | m/s                 | nan        |\n",
       "| inlet_radii  |    0.051751 | 0.09056430561399292 |   0.129378 |\n",
       "| outlet_radii |    0.110233 | 0.11980539516492981 |   0.129378 |"
      ],
      "text/plain": [
       "<IPython.core.display.Markdown object>"
      ]
     },
     "metadata": {},
     "output_type": "display_data"
    }
   ],
   "source": [
    "import numpy as np\n",
    "import pandas as pd\n",
    "from IPython.display import Markdown\n",
    "\n",
    "from AnnulusDimension import annulus_dimensions\n",
    "\n",
    "display(Markdown(pd.DataFrame.from_dict(annulus_dimensions,orient='index').to_markdown()))\n",
    "table_1 = pd.DataFrame.from_dict(annulus_dimensions,orient='index').to_markdown()"
   ]
  },
  {
   "cell_type": "code",
   "execution_count": null,
   "metadata": {},
   "outputs": [
    {
     "name": "stdout",
     "output_type": "stream",
     "text": [
      "347.5161634302797\n"
     ]
    }
   ],
   "source": [
    "print(annulus_dimensions['N_rev'][0]*2*np.pi*annulus_dimensions['inlet_radii'][-1])"
   ]
  },
  {
   "cell_type": "code",
   "execution_count": null,
   "metadata": {},
   "outputs": [
    {
     "data": {
      "text/markdown": [
       "|    |   $\\lambda$ |   $\\Lambda$ |   $ \\beta_1 $ |   $ \\beta_2 $ |   $ \\alpha_1 $ |   $ \\alpha_2 $ |   $C_{w1}$ |   $C_{w2}$ |   de Haller |   $P_{0S}$ |   $T_{0S}$ |\n",
       "|---:|------------:|------------:|--------------:|--------------:|---------------:|---------------:|-----------:|-----------:|------------:|-----------:|-----------:|\n",
       "|  0 |      0.98   |      0.639  |        59.132 |       104.699 |          0.009 |         45.908 |      0.026 |    175.609 |      1.4372 |     1.5476 |     329.8  |\n",
       "|  1 |      0.9131 |      0.4685 |        57.599 |        84.573 |         18.506 |         53.268 |     56.947 |    227.979 |      1.5856 |     2.2468 |     371.45 |\n",
       "|  2 |      0.8725 |      0.4196 |        56.803 |        80.387 |         25.387 |         55.7   |     80.739 |    249.407 |      1.6032 |     3.1345 |     413.1  |\n",
       "|  3 |      0.8479 |      0.4056 |        56.126 |        80.926 |         28.593 |         56.739 |     92.732 |    259.389 |      1.601  |     4.2343 |     454.75 |\n",
       "|  4 |      0.833  |      0.4016 |        55.616 |        82.309 |         30.322 |         57.265 |     99.506 |    264.649 |      1.5963 |     5.5705 |     496.4  |"
      ],
      "text/plain": [
       "<IPython.core.display.Markdown object>"
      ]
     },
     "metadata": {},
     "output_type": "display_data"
    }
   ],
   "source": [
    "from IPython.display import Markdown\n",
    "\n",
    "from MeanVelocityTriangles import velocity_triangles_table\n",
    "\n",
    "pd.options.display.html.use_mathjax = True\n",
    "velocity_triangles_df = pd.DataFrame(velocity_triangles_table)\n",
    "display(Markdown(velocity_triangles_df.to_markdown(index=True)))\n",
    "table_2 =velocity_triangles_df.to_markdown(index=True)"
   ]
  },
  {
   "cell_type": "code",
   "execution_count": null,
   "metadata": {},
   "outputs": [
    {
     "data": {
      "text/markdown": [
       "|                         |              0 |              1 |              2 |\n",
       "|:------------------------|---------------:|---------------:|---------------:|\n",
       "| stagnation_pressures    | 481294         | 481294         | 222821         |\n",
       "| pressures               | 428378         | 308118         | 112019         |\n",
       "| stagnation_temperatures |   1173         |   1173         |   1023         |\n",
       "| temperatures            |   1139.36      |   1049.33      |    987.842     |\n",
       "| densities               |      1.31004   |      1.02311   |      0.699526  |\n",
       "| area                    |      0.0222401 |      0.0284771 |      0.0416501 |\n",
       "| heights                 |      0.0273588 |      0.0350314 |      0.0512363 |\n",
       "| radius_ratio            |      1.23647   |      1.31317   |      1.4938    |"
      ],
      "text/plain": [
       "<IPython.core.display.Markdown object>"
      ]
     },
     "metadata": {},
     "output_type": "display_data"
    }
   ],
   "source": [
    "from TurbineAnnulus import turbine_annulus_dict\n",
    "\n",
    "display(Markdown(pd.DataFrame.from_dict(turbine_annulus_dict,orient='index').to_markdown()))\n",
    "table_3 =pd.DataFrame.from_dict(turbine_annulus_dict,orient='index').to_markdown()"
   ]
  },
  {
   "cell_type": "code",
   "execution_count": null,
   "metadata": {},
   "outputs": [
    {
     "data": {
      "text/markdown": [
       "|           |       0 |        1 |        2 |\n",
       "|:----------|--------:|---------:|---------:|\n",
       "| $\\psi$    | 2.8539  | nan      | nan      |\n",
       "| $\\Lambda$ | 0.45657 | nan      | nan      |\n",
       "| $\\alpha$  | 0       |  57.5239 |  12      |\n",
       "| $\\beta$   | 0       |  17.8035 |  55.6382 |"
      ],
      "text/plain": [
       "<IPython.core.display.Markdown object>"
      ]
     },
     "metadata": {},
     "output_type": "display_data"
    }
   ],
   "source": [
    "\n",
    "from MeanTurbineAngles import velocity_angles_dict\n",
    "\n",
    "display(Markdown(pd.DataFrame.from_dict(velocity_angles_dict,orient='index').to_markdown()))\n",
    "table_4 =pd.DataFrame.from_dict(velocity_angles_dict,orient='index').to_markdown()"
   ]
  },
  {
   "cell_type": "code",
   "execution_count": null,
   "metadata": {},
   "outputs": [],
   "source": [
    "\n",
    "with open('appendix\\\\markdown-tables','w') as file:\n",
    "  file.write(table_1)\n",
    "  file.write('\\n\\n')\n",
    "  file.write(table_2)\n",
    "  file.write('\\n\\n')\n",
    "  file.write(table_3)\n",
    "  file.write('\\n\\n')\n",
    "  file.write(table_4)"
   ]
  }
 ],
 "metadata": {
  "kernelspec": {
   "display_name": "design_env",
   "language": "python",
   "name": "python3"
  },
  "language_info": {
   "codemirror_mode": {
    "name": "ipython",
    "version": 3
   },
   "file_extension": ".py",
   "mimetype": "text/x-python",
   "name": "python",
   "nbconvert_exporter": "python",
   "pygments_lexer": "ipython3",
   "version": "3.13.0"
  }
 },
 "nbformat": 4,
 "nbformat_minor": 2
}
